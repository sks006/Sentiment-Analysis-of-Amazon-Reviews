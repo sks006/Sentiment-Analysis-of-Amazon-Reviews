# Importing required libraries
from google.colab import files
import numpy as np
import pandas as pd
import re

# NLP libraries
import nltk
from textblob import TextBlob
from wordcloud import WordCloud

# Plotting libraries
import seaborn as sns
import plotly.graph_objs as go
from plotly.subplots import make_subplots
import matplotlib.pyplot as plt

# Interactive visualizations
import cufflinks as cf
from plotly.offline import init_notebook_mode, iplot
init_notebook_mode(connected=True)
cf.go_offline()

# Suppress warnings
import warnings
warnings.filterwarnings("ignore")
warnings.warn("this will not show")
pd.set_option("display.max_columns", None)

# Load dataset
uploaded = files.upload()
file_path = list(uploaded.keys())[0]
df = pd.read_csv(file_path)

# Display the first few rows of the dataset
df.head()

# Clean and preprocess the text data
def clean_text(text):
    # Remove non-alphabetical characters and convert to lowercase
    return re.sub("[^a-zA-Z]", " ", str(text)).lower()

# Apply text cleaning
df['reviewText'] = df['reviewText'].map(clean_text)

# Define AFINN lexicon
afinn_path = '/path/to/AFINN-111.txt'  # Update with the correct path
afinn_df = pd.read_csv(afinn_path, sep='\t', header=None, names=['word', 'score'])
afinn_lexicon = dict(zip(afinn_df['word'], afinn_df['score']))

# Custom Sentiment Analysis using AFINN
def analyze_sentiment(text, lexicon):
    words = text.split()
    score = sum(lexicon.get(word, 0) for word in words)
    if score > 0:
        return 'Positive'
    elif score < 0:
        return 'Negative'
    else:
        return 'Neutral'

# Apply sentiment analysis to reviewText
df['sentiment'] = df['reviewText'].apply(lambda text: analyze_sentiment(text, afinn_lexicon))

# Display sentiment distribution
def categorical_variable_summary(df, column_name):
    fig = make_subplots(rows=1, cols=2, subplot_titles=('Count Plot', 'Percentage Plot'),
                        specs=[[{"type": "xy"}, {"type": "domain"}]])

    # Count Plot
    fig.add_trace(go.Bar(
        y=df[column_name].value_counts().tolist(),
        x=[str(i) for i in df[column_name].value_counts().index],
        text=df[column_name].value_counts().tolist(),
        textposition='auto',
        name=column_name,
        showlegend=False,
    ), row=1, col=1)

    # Pie Chart
    fig.add_trace(go.Pie(
        labels=df[column_name].value_counts().keys(),
        values=df[column_name].value_counts().tolist(),
        name=column_name,
        showlegend=False,
    ), row=1, col=2)

    # Display the plot
    fig.update_layout(title={'text': column_name, 'x': 0.5, 'xanchor': 'center'})
    iplot(fig)

categorical_variable_summary(df, 'sentiment')

# Generate Word Cloud for Positive Reviews
positive_reviews = " ".join(df[df['sentiment'] == 'Positive']['reviewText'])
wordcloud = WordCloud(width=800, height=400, background_color='white').generate(positive_reviews)

plt.figure(figsize=(10, 6))
plt.imshow(wordcloud, interpolation='bilinear')
plt.axis('off')
plt.title("Word Cloud for Positive Reviews", fontsize=16)
plt.show()

# Generate Word Cloud for Negative Reviews
negative_reviews = " ".join(df[df['sentiment'] == 'Negative']['reviewText'])
wordcloud = WordCloud(width=800, height=400, background_color='white').generate(negative_reviews)

plt.figure(figsize=(10, 6))
plt.imshow(wordcloud, interpolation='bilinear')
plt.axis('off')
plt.title("Word Cloud for Negative Reviews", fontsize=16)
plt.show()

# Visualizing polarity and subjectivity using TextBlob
df[['polarity', 'subjectivity']] = df['reviewText'].apply(lambda text: pd.Series(TextBlob(text).sentiment))

sns.scatterplot(data=df, x='polarity', y='subjectivity', hue='sentiment', palette='coolwarm')
plt.title("Polarity vs. Subjectivity")
plt.xlabel("Polarity")
plt.ylabel("Subjectivity")
plt.show()

# Display the final DataFrame with sentiment analysis
df[['reviewText', 'sentiment', 'polarity', 'subjectivity']].head()
